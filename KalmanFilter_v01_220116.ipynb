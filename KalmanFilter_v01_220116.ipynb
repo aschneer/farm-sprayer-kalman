{
 "cells": [
  {
   "cell_type": "code",
   "execution_count": 23,
   "id": "4fd69f4d",
   "metadata": {},
   "outputs": [],
   "source": [
    "import numpy as np"
   ]
  },
  {
   "cell_type": "markdown",
   "id": "96754436",
   "metadata": {},
   "source": [
    "Function to calculate next predicted state:"
   ]
  },
  {
   "cell_type": "code",
   "execution_count": 24,
   "id": "4c7681ca",
   "metadata": {},
   "outputs": [],
   "source": [
    "# All arguments must be type np.array\n",
    "def nextPredictState(A, Xkp_prev, B, uk, wk):\n",
    "    Xkp = A.dot(Xkp_prev) + B.dot(uk) + wk\n",
    "    return Xkp"
   ]
  },
  {
   "cell_type": "markdown",
   "id": "94619f48",
   "metadata": {},
   "source": [
    "Function to calculate process covariance matrix:"
   ]
  },
  {
   "cell_type": "code",
   "execution_count": 25,
   "id": "99ae74c1",
   "metadata": {},
   "outputs": [],
   "source": [
    "# All arguments must be type np.array\n",
    "def predictProcCovar(A, Pkp_prev, QR):\n",
    "    Pkp = A.dot(Pkp_prev).dot(np.transpose(A)) + QR\n",
    "    return Pkp"
   ]
  },
  {
   "cell_type": "markdown",
   "id": "58b42169",
   "metadata": {},
   "source": [
    "Function to calculate Kalman Gain:"
   ]
  },
  {
   "cell_type": "code",
   "execution_count": 26,
   "id": "85b20e7b",
   "metadata": {},
   "outputs": [],
   "source": [
    "# All arguments must be type np.array\n",
    "def kalmanGain(Pkp, H, R):\n",
    "    K_top = Pkp.dot(np.transpose(H))\n",
    "    K_bottom = H.dot(Pkp).dot(np.transpose(H)) + R\n",
    "    # Perform array division, element-wise.\n",
    "    K = np.divide(K_top, K_bottom)\n",
    "    return K"
   ]
  },
  {
   "cell_type": "markdown",
   "id": "b1ea7198",
   "metadata": {},
   "source": [
    "Function to calculate new measurements to incorporate:"
   ]
  },
  {
   "cell_type": "code",
   "execution_count": 27,
   "id": "20a48529",
   "metadata": {},
   "outputs": [],
   "source": [
    "# All arguments must be type np.array\n",
    "def newMeas(C, Ykm, ZR):\n",
    "    Yk = C.dot(Ykm) + ZR\n",
    "    return Yk"
   ]
  },
  {
   "cell_type": "markdown",
   "id": "b525433a",
   "metadata": {},
   "source": [
    "Filter equation - calculate new current state, combining estimate and measurements:"
   ]
  },
  {
   "cell_type": "code",
   "execution_count": null,
   "id": "3d2d386b",
   "metadata": {},
   "outputs": [],
   "source": [
    "# All arguments must be type np.array\n",
    "def filterEqn(Xkp, K, Yk, H):\n",
    "    Xk = Xkp + K.dot(Yk - H.dot(Xkp))\n",
    "    return Xk"
   ]
  },
  {
   "cell_type": "markdown",
   "id": "e8b5aea6",
   "metadata": {},
   "source": [
    "Function to update process covariance matrix:"
   ]
  },
  {
   "cell_type": "code",
   "execution_count": 28,
   "id": "a3ea9f8e",
   "metadata": {},
   "outputs": [],
   "source": [
    "# All arguments must be type np.array\n",
    "def updateProcCovar(I, K, H, Pkp):\n",
    "    Pk = (I - K.dot(H)).dot(Pkp)\n",
    "    return Pk"
   ]
  }
 ],
 "metadata": {
  "kernelspec": {
   "display_name": "Python 3 (ipykernel)",
   "language": "python",
   "name": "python3"
  },
  "language_info": {
   "codemirror_mode": {
    "name": "ipython",
    "version": 3
   },
   "file_extension": ".py",
   "mimetype": "text/x-python",
   "name": "python",
   "nbconvert_exporter": "python",
   "pygments_lexer": "ipython3",
   "version": "3.9.7"
  }
 },
 "nbformat": 4,
 "nbformat_minor": 5
}
